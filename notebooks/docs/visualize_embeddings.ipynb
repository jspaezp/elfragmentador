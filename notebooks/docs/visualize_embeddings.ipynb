{
  "cells": [
    {
      "cell_type": "markdown",
      "metadata": {},
      "source": [
        "# \"Visualize The embeddings of the default checkpoint\"\n"
      ],
      "id": "ad99d05a"
    },
    {
      "cell_type": "code",
      "metadata": {},
      "source": [
        "import elfragmentador\n",
        "import torch\n",
        "import matplotlib.pyplot as plt\n",
        "from elfragmentador.nn_encoding import ConcatenationEncoder\n",
        "from elfragmentador.model import PepTransformerModel\n",
        "\n",
        "# CHECKPOINT = \"https://github.com/jspaezp/elfragmentador-modelzoo/raw/main/0.50.0b14/0.50.0b14_onecycle_10e_96_120_val_l%3D0.141270_epoch%3D009.ckpt\"\n",
        "CHECKPOINT = elfragmentador.DEFAULT_CHECKPOINT\n",
        "\n",
        "try:\n",
        "    model = PepTransformerModel.load_from_checkpoint(CHECKPOINT)\n",
        "except RuntimeError as e:\n",
        "    print(e)\n",
        "    saved_ckpt = torch.load(CHECKPOINT)\n",
        "    state_dict = saved_ckpt[\"state_dict\"]\n",
        "    state_dict.pop(\"decoder.peak_decoder.layers.1.weight\")\n",
        "    state_dict.pop(\"decoder.peak_decoder.layers.1.bias\")\n",
        "    model = PepTransformerModel(**saved_ckpt[\"hyper_parameters\"])\n",
        "    model.load_state_dict(state_dict=state_dict, strict=False)\n",
        "    print(model)\n",
        "\n",
        "model.eval()"
      ],
      "id": "24104697",
      "execution_count": null,
      "outputs": []
    },
    {
      "cell_type": "code",
      "metadata": {},
      "source": [
        "x1 = torch.zeros((5, 1, 10))\n",
        "x2 = torch.cat([x1, x1 + 1], axis=1)\n",
        "encoder = model.decoder.nce_encoder\n",
        "output = encoder(x1, torch.tensor([[25]]))\n",
        "\n",
        "plt.imshow(output[:, 0, :])\n",
        "plt.colorbar()"
      ],
      "id": "0eb798ba",
      "execution_count": null,
      "outputs": []
    },
    {
      "cell_type": "code",
      "metadata": {},
      "source": [
        "output = encoder(x2, torch.tensor([[25], [35]]))\n",
        "plt.imshow(output[:, 0, :], aspect=\"auto\")\n",
        "plt.colorbar()\n",
        "plt.show()\n",
        "plt.imshow(output[:, 1, :], aspect=\"auto\")\n",
        "plt.colorbar()\n",
        "plt.show()\n",
        "\n",
        "output = encoder(x2, torch.tensor([[25], [26]]))\n",
        "plt.imshow(output[:, 0, :], aspect=\"auto\")\n",
        "plt.colorbar()\n",
        "plt.show()\n",
        "plt.imshow(output[:, 1, :], aspect=\"auto\")\n",
        "plt.colorbar()\n",
        "plt.show()"
      ],
      "id": "c577281e",
      "execution_count": null,
      "outputs": []
    },
    {
      "cell_type": "code",
      "metadata": {},
      "source": [
        "x1 = torch.zeros((1, 400, 1))\n",
        "in_vals = torch.tensor([[(x / 10) + 10] for x in range(400)])\n",
        "output = encoder(x1, in_vals)\n",
        "\n",
        "plt.imshow(output[0, :, :], aspect=\"auto\")\n",
        "plt.colorbar()\n",
        "plt.title(\"NCE addition values from 10 to 50\\n In increments of 0.1\")\n",
        "plt.show()\n",
        "\n",
        "x1 = torch.zeros((1, 30, 1))\n",
        "in_vals = torch.tensor([[x] for x in range(20, 50)])\n",
        "output = encoder(x1, in_vals)\n",
        "\n",
        "plt.imshow(output[0, :, :], aspect=\"auto\")\n",
        "plt.colorbar()\n",
        "plt.title(\"NCE addition values from 20 to 50\\n In increments of 1\")\n",
        "plt.show()"
      ],
      "id": "ec3eeddc",
      "execution_count": null,
      "outputs": []
    },
    {
      "cell_type": "code",
      "metadata": {},
      "source": [
        "x1 = torch.zeros((1, 4, 1))\n",
        "in_vals = torch.tensor([[20], [25], [30], [35]])\n",
        "output = encoder(x1, in_vals)\n",
        "\n",
        "plt.imshow(output[0, :, :], aspect=\"auto\")\n",
        "plt.colorbar()\n",
        "plt.title(\"NCE addition for the values of [20],[25],[30],[35]\")\n",
        "plt.show()"
      ],
      "id": "04f8c48b",
      "execution_count": null,
      "outputs": []
    },
    {
      "cell_type": "code",
      "metadata": {},
      "source": [
        "posencoder = model.encoder.aa_encoder.position_embed\n",
        "print(posencoder)\n",
        "x = torch.zeros((50, 96)).float()\n",
        "output = posencoder(x)\n",
        "\n",
        "plt.imshow(output[:, 0, :], aspect=\"auto\")\n",
        "plt.colorbar()\n",
        "plt.title(\"Added values for positional ancoding, form 0 to 50\")\n",
        "plt.show()"
      ],
      "id": "6bc95021",
      "execution_count": null,
      "outputs": []
    },
    {
      "cell_type": "code",
      "metadata": {},
      "source": [
        "import elfragmentador.constants as EFC\n",
        "import pandas as pd\n",
        "import seaborn as sns\n",
        "\n",
        "df, mod_df = model.encoder.aa_encoder.as_DataFrames()\n",
        "\n",
        "df\n",
        "g = sns.clustermap(df, cmap=\"viridis\", dendrogram_ratio=(0.02, 0.2), figsize=(8, 4))\n",
        "g.ax_row_dendrogram.set_visible(False)\n",
        "g.fig.subplots_adjust(right=0.7)\n",
        "g.ax_cbar.set_position((0.8, 0.2, 0.03, 0.4))"
      ],
      "id": "fabfea18",
      "execution_count": null,
      "outputs": []
    },
    {
      "cell_type": "code",
      "metadata": {},
      "source": [
        "df = pd.DataFrame(data=model.encoder.aa_encoder.mod_encoder.weight.detach().numpy().T)\n",
        "df.columns = [\"EMPTY\"] + list(EFC.MODIFICATION)\n",
        "\n",
        "for x in df:\n",
        "    if sum(df[x] ** 2) < 0.01:\n",
        "        del df[x]\n",
        "\n",
        "g = sns.clustermap(df, cmap=\"viridis\", dendrogram_ratio=(0.02, 0.2), figsize=(8, 4))\n",
        "g.ax_row_dendrogram.set_visible(False)\n",
        "g.fig.subplots_adjust(right=0.7)\n",
        "g.ax_cbar.set_position((0.8, 0.2, 0.03, 0.4))"
      ],
      "id": "3bda5721",
      "execution_count": null,
      "outputs": []
    },
    {
      "cell_type": "code",
      "metadata": {},
      "source": [
        "df = pd.DataFrame(data=model.decoder.trans_decoder_embedding.weight.detach().numpy().T)\n",
        "df.columns = list(EFC.FRAG_EMBEDING_LABELS)\n",
        "\n",
        "for x in df:\n",
        "    if sum(df[x] ** 2) < 0.01:\n",
        "        del df[x]\n",
        "\n",
        "g = sns.clustermap(df, cmap=\"viridis\", dendrogram_ratio=(0.02, 0.2), figsize=(8, 4))\n",
        "g.ax_row_dendrogram.set_visible(False)\n",
        "g.fig.subplots_adjust(right=0.7)\n",
        "g.ax_cbar.set_position((0.8, 0.2, 0.03, 0.4))"
      ],
      "id": "c7e0c598",
      "execution_count": null,
      "outputs": []
    }
  ],
  "metadata": {
    "kernelspec": {
      "name": "python3",
      "language": "python",
      "display_name": "Python 3 (ipykernel)"
    }
  },
  "nbformat": 4,
  "nbformat_minor": 5
}
